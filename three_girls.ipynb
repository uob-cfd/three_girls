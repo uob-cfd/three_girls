{
 "cells": [
  {
   "cell_type": "markdown",
   "metadata": {},
   "source": [
    "## Exercises on the three-girl simulation problem\n",
    "\n",
    "These exercises follow on from the three girls solution in [filling arrays](https://matthew-brett.github.io/cfd2020/arrays/filling_arrays), and the [reply to the Supreme\n",
    "Court](https://matthew-brett.github.io/cfd2020/iteration/reply_supreme).\n",
    "\n",
    "You may want to refer back to those pages for inspiration."
   ]
  },
  {
   "cell_type": "code",
   "execution_count": null,
   "metadata": {},
   "outputs": [],
   "source": [
    "# Don't change this cell; just run it.\n",
    "import numpy as np  # The array library.\n",
    "\n",
    "# The OKpy testing system.\n",
    "from client.api.notebook import Notebook\n",
    "ok = Notebook('three_girls.ok')"
   ]
  },
  {
   "cell_type": "markdown",
   "metadata": {},
   "source": [
    "### Three girls in a family of four\n",
    "\n",
    "Remember the solution to this problem, from [filling\n",
    "arrays](https://matthew-brett.github.io/cfd2020/arrays/filling_arrays)?  Here is a version of that\n",
    "solution:\n",
    "\n",
    "As usual, we first build a single trial, to make sure we are on the right track."
   ]
  },
  {
   "cell_type": "code",
   "execution_count": null,
   "metadata": {},
   "outputs": [],
   "source": [
    "# A single trial is one family (of four children)\n",
    "family = np.random.randint(0, 2, 4)\n",
    "count = np.sum(family)\n",
    "# The count should be between 0 and 4 inclusive.\n",
    "count"
   ]
  },
  {
   "cell_type": "markdown",
   "metadata": {},
   "source": [
    "Here is the full solution, with the trial logic inside the for-loop."
   ]
  },
  {
   "cell_type": "code",
   "execution_count": null,
   "metadata": {},
   "outputs": [],
   "source": [
    "# Reset the counts array to empty (all zeros)\n",
    "counts_girls = np.zeros(10000)\n",
    "\n",
    "# Repeat the indented stuff 10000 times.\n",
    "for i in np.arange(10000):\n",
    "    # The procedure for one family.\n",
    "    family = np.random.randint(0, 2, 4)\n",
    "    count = np.sum(family)\n",
    "    # Fill in the corresponding value in the counts_girls array.\n",
    "    counts_girls[i] = count\n",
    "\n",
    "# Proportion\n",
    "p_3_girls = np.count_nonzero(counts_girls == 3) / 10000\n",
    "p_3_girls"
   ]
  },
  {
   "cell_type": "markdown",
   "metadata": {},
   "source": [
    "### No girls in a family of four\n",
    "\n",
    "Estimate the chances that a 4-child family will have no girls.  You can copy\n",
    "the code from the cell above, and modify it, or you may be able to use\n",
    "variables from the code above, to get the answer, without repeating the\n",
    "simulation."
   ]
  },
  {
   "cell_type": "code",
   "execution_count": null,
   "metadata": {},
   "outputs": [],
   "source": [
    "#- Calculate proportion with 0 girls.\n",
    "p_no_girls = ...\n",
    "p_no_girls"
   ]
  },
  {
   "cell_type": "code",
   "execution_count": null,
   "metadata": {
    "lines_to_next_cell": 2
   },
   "outputs": [],
   "source": [
    "_ = ok.grade('q_1_no_girls')"
   ]
  },
  {
   "cell_type": "markdown",
   "metadata": {},
   "source": [
    "For extra points - the answer above is easier to work out with probability\n",
    "than the chance of three girls.  What's the exact answer, from probability?"
   ]
  },
  {
   "cell_type": "markdown",
   "metadata": {},
   "source": [
    "Edit this code cell to give your answer.\n"
   ]
  },
  {
   "cell_type": "markdown",
   "metadata": {},
   "source": [
    "### Three girls in a family of five\n",
    "\n",
    "Simulate the chances that a family with 5 children will have\n",
    "exactly 3 girls."
   ]
  },
  {
   "cell_type": "code",
   "execution_count": null,
   "metadata": {},
   "outputs": [],
   "source": [
    "#- Logic for a single trial.\n",
    "#- A single trial is one family (of five children)\n",
    "family = np.random.randint(...)\n",
    "count = np.sum(family)\n",
    "# The count should be between 0 and 5 inclusive.\n",
    "count"
   ]
  },
  {
   "cell_type": "markdown",
   "metadata": {},
   "source": [
    "Now adapt the for-loop a few cells above, adding your single-trial logic, just\n",
    "above, to simulate the chances of 3 girls from 5 children."
   ]
  },
  {
   "cell_type": "code",
   "execution_count": null,
   "metadata": {},
   "outputs": [],
   "source": [
    "#- Simulate 10000 families of 5 children.\n",
    "#- Show proportion with 3 girls.\n",
    "#- Your code below\n",
    "p_3_of_5 = ...\n",
    "p_3_of_5"
   ]
  },
  {
   "cell_type": "code",
   "execution_count": null,
   "metadata": {},
   "outputs": [],
   "source": [
    "_ = ok.grade('q_2_three_of_five')"
   ]
  },
  {
   "cell_type": "markdown",
   "metadata": {},
   "source": [
    "### Three or fewer girls in a family of five\n",
    "\n",
    "Estimate the chances that a family with 5 children will have 3 or fewer girls, using your simulation.\n",
    "\n",
    "Hint: you may remember from the [Comparison page](https://matthew-brett.github.io/cfd2020/data-types/Comparison) that `<=` tests whether the thing on the left is\n",
    "*less than or equal to* the thing on the right."
   ]
  },
  {
   "cell_type": "code",
   "execution_count": null,
   "metadata": {},
   "outputs": [],
   "source": [
    "3 <= 4"
   ]
  },
  {
   "cell_type": "code",
   "execution_count": null,
   "metadata": {},
   "outputs": [],
   "source": [
    "3 <= 3"
   ]
  },
  {
   "cell_type": "code",
   "execution_count": null,
   "metadata": {},
   "outputs": [],
   "source": [
    "3 <= 2"
   ]
  },
  {
   "cell_type": "code",
   "execution_count": null,
   "metadata": {},
   "outputs": [],
   "source": [
    "my_array = np.array([1, 2, 3, 4])\n",
    "my_array <= 2"
   ]
  },
  {
   "cell_type": "markdown",
   "metadata": {},
   "source": [
    "Hints: you have already done a simulation above that you can use to answer\n",
    "this question.  Use the results from that simulation below."
   ]
  },
  {
   "cell_type": "code",
   "execution_count": null,
   "metadata": {},
   "outputs": [],
   "source": [
    "#- Use your simulation of 10000 families, each of 5 children.\n",
    "#- Show the proportion of families of 5 children with 3 or fewer girls.\n",
    "#- Your code below\n",
    "p_3_or_fewer = ...\n",
    "p_3_or_fewer"
   ]
  },
  {
   "cell_type": "code",
   "execution_count": null,
   "metadata": {},
   "outputs": [],
   "source": [
    "_ = ok.grade('q_3_three_or_fewer')"
   ]
  },
  {
   "cell_type": "markdown",
   "metadata": {},
   "source": [
    "### More realistic simulation\n",
    "\n",
    "Now we are back to the situation of exactly 3 girls in a family of 4.\n",
    "\n",
    "In fact, when you have a child, the probability of having a girl is slightly\n",
    "less than 0.5.\n",
    "\n",
    "The [proportion of boys born in the\n",
    "UK](https://www.gov.uk/government/statistics/gender-ratios-at-birth-in-great-britain-2010-to-2014)\n",
    "is 0.513.  Hence the proportion of girls is 1-0.513 = 0.487.\n",
    "\n",
    "With that probability of having a girl, what are the chances of having exactly\n",
    "three girls in a family of four?\n",
    "\n",
    "Hint 1: you may want to use `np.random.uniform`.  Check the help with\n",
    "`np.random.uniform?` followed by Shift-Enter in a new cell.  It works like\n",
    "this:"
   ]
  },
  {
   "cell_type": "code",
   "execution_count": null,
   "metadata": {},
   "outputs": [],
   "source": [
    "# An array of four random numbers between 0 and 1.\n",
    "np.random.uniform(0, 1, 4)"
   ]
  },
  {
   "cell_type": "markdown",
   "metadata": {},
   "source": [
    "Hint 2: Let's say I have a random number `x` between 0 and 1:"
   ]
  },
  {
   "cell_type": "code",
   "execution_count": null,
   "metadata": {},
   "outputs": [],
   "source": [
    "x = np.random.uniform(0, 1)\n",
    "x"
   ]
  },
  {
   "cell_type": "markdown",
   "metadata": {},
   "source": [
    "The probability that that some returned `x` will be less than - say - 0.25, is 0.25.\n",
    "\n",
    "Here's a variable with the chance of any given child being a girl. Run this cell:"
   ]
  },
  {
   "cell_type": "code",
   "execution_count": null,
   "metadata": {},
   "outputs": [],
   "source": [
    "# Run this cell.\n",
    "chance_of_girl = 0.487"
   ]
  },
  {
   "cell_type": "code",
   "execution_count": null,
   "metadata": {},
   "outputs": [],
   "source": [
    "#- Cell for the logic of one trial.\n",
    "#- One trial is a family of four children.\n",
    "family = np.random...\n",
    "#- Make a Boolean array identifying girls (True) and boys (False)\n",
    "are_girls = ...\n",
    "#- Count the number of Trues you got.\n",
    "count = ...\n",
    "# The new count should be between 0 and 4 inclusive, but now there should be a\n",
    "# very slightly reduced chance of higher numbers.\n",
    "count"
   ]
  },
  {
   "cell_type": "markdown",
   "metadata": {},
   "source": [
    "Now put this logic into your for-loop, to simulate the numbers with the modified chance of a girl."
   ]
  },
  {
   "cell_type": "code",
   "execution_count": null,
   "metadata": {},
   "outputs": [],
   "source": [
    "#- Estimate more accurate chance of having exactly 3 girls\n",
    "#- in a family of four.\n",
    "p_r3_of_4 = ...\n",
    "p_r3_of_4"
   ]
  },
  {
   "cell_type": "code",
   "execution_count": null,
   "metadata": {},
   "outputs": [],
   "source": [
    "# It is possible, but highly unlikely, that this test will fail even\n",
    "# when you have the right calculation, because your answer is a little\n",
    "# random, and it may be very unusual.  If the test fails, and you think\n",
    "# your answer is right, run it again a few times.\n",
    "_ = ok.grade('q_4_r_three_of_four')"
   ]
  },
  {
   "cell_type": "markdown",
   "metadata": {},
   "source": [
    "## Done.\n",
    "\n",
    "Congratulations, you're done with the assignment!  Be sure to:\n",
    "\n",
    "- **Run all the tests** (the next cell has a shortcut for that).\n",
    "- **Save and Checkpoint** from the `File` menu."
   ]
  },
  {
   "cell_type": "code",
   "execution_count": null,
   "metadata": {},
   "outputs": [],
   "source": [
    "# For your convenience, you can run this cell to run all the tests at once!\n",
    "import os\n",
    "_ = [ok.grade(q[:-3]) for q in os.listdir(\"tests\") if q.startswith('q')]"
   ]
  }
 ],
 "metadata": {
  "jupytext": {
   "split_at_heading": true,
   "text_representation": {
    "extension": ".Rmd",
    "format_name": "rmarkdown",
    "format_version": "1.1",
    "jupytext_version": "1.2.4"
   }
  },
  "kernelspec": {
   "display_name": "Python 3",
   "language": "python",
   "name": "python3"
  }
 },
 "nbformat": 4,
 "nbformat_minor": 4
}
